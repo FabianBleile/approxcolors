{
 "cells": [
  {
   "cell_type": "code",
   "execution_count": 425,
   "metadata": {},
   "outputs": [
    {
     "name": "stdout",
     "output_type": "stream",
     "text": [
      "done\n"
     ]
    }
   ],
   "source": [
    "import seaborn as sns\n",
    "from matplotlib import pyplot as plt\n",
    "from mpl_toolkits.mplot3d import Axes3D\n",
    "import numpy as np\n",
    "import random\n",
    "import csv\n",
    "from sklearn.manifold import MDS\n",
    "# Gute Ergebnisse für DSJR500.1c fitnessBoundary=480, 1000 partcols, time limit 600\n",
    "#n = 250\n",
    "#n = 500\n",
    "#n = 1000\n",
    "n = 169\n",
    "instance = \"queen13_13\" #DSJC1000.1 ; le450_25d ; DSJC250.5\n",
    "reader = csv.reader(open(instance+\".spaceAnalysis.csv\", \"r\", encoding=\"ascii\"), delimiter=\",\")\n",
    "readerFitness = csv.reader(open(instance + \".spaceAnalysisFitness.csv\", \"r\", encoding=\"ascii\"), delimiter=\",\")\n",
    "print('done')"
   ]
  },
  {
   "cell_type": "code",
   "execution_count": 426,
   "metadata": {},
   "outputs": [
    {
     "name": "stdout",
     "output_type": "stream",
     "text": [
      "[[  0. 105. 106. ... 108. 109. 109.]\n",
      " [105.   0.   0. ... 109. 111. 113.]\n",
      " [106.   0.   0. ... 110. 112. 114.]\n",
      " ...\n",
      " [108. 109. 110. ...   0.   2.   4.]\n",
      " [109. 111. 112. ...   2.   0.   0.]\n",
      " [109. 113. 114. ...   4.   0.   0.]]\n"
     ]
    }
   ],
   "source": [
    "result = np.array(list(reader)).astype(np.float)\n",
    "fitness = np.array(list(readerFitness)).astype(np.float)[0]\n",
    "print(result)\n",
    "#print(fitness)"
   ]
  },
  {
   "cell_type": "code",
   "execution_count": 427,
   "metadata": {},
   "outputs": [
    {
     "data": {
      "image/png": "[encoded data removed]",
      "text/plain": [
       "<Figure size 432x288 with 1 Axes>"
      ]
     },
     "metadata": {
      "needs_background": "light"
     },
     "output_type": "display_data"
    }
   ],
   "source": [
    "x = np.arange(n)\n",
    "y = np.zeros(n)\n",
    "for i in range(0,len(result)):\n",
    "    for j in range(i+1, len(result)):\n",
    "        y[int(result[i][j])] += 1\n",
    "\n",
    "# Make the Chart\n",
    "plt.bar(x, y)\n",
    "\n",
    "# Show the Chart\n",
    "plt.show()"
   ]
  },
  {
   "cell_type": "code",
   "execution_count": null,
   "metadata": {},
   "outputs": [],
   "source": [
    "embedding = MDS(n_components=3, metric=True, n_init=4, max_iter=300, verbose=0, eps=0.0025, n_jobs=None, random_state=None, dissimilarity='precomputed')\n",
    "X_transformed = embedding.fit_transform(result)\n",
    "x_vals = X_transformed[:,0]\n",
    "y_vals = X_transformed[:,1]\n",
    "z_vals = X_transformed[:,2]\n",
    "it = np.arange(1,len(result)+1)"
   ]
  },
  {
   "cell_type": "code",
   "execution_count": null,
   "metadata": {},
   "outputs": [],
   "source": [
    "fig = pyplot.figure()\n",
    "ax = Axes3D(fig)\n",
    "ax.scatter(x_vals, y_vals, z_vals, c=it, label=it)\n",
    "#ax.legend()\n",
    "plt.show()"
   ]
  },
  {
   "cell_type": "code",
   "execution_count": null,
   "metadata": {},
   "outputs": [],
   "source": [
    "embedding = MDS(n_components=2, metric=True, n_init=4, max_iter=300, verbose=0, eps=0.0025, n_jobs=None, random_state=None, dissimilarity='precomputed')\n",
    "X_transformed = embedding.fit_transform(result)\n",
    "x_vals = X_transformed[:,0]\n",
    "y_vals = X_transformed[:,1]"
   ]
  },
  {
   "cell_type": "code",
   "execution_count": null,
   "metadata": {},
   "outputs": [],
   "source": [
    "plt.scatter(x_vals, y_vals, z_vals, c=it, label=it, alpha=0.2)\n",
    "plt.show()"
   ]
  },
  {
   "cell_type": "code",
   "execution_count": null,
   "metadata": {},
   "outputs": [],
   "source": []
  }
 ],
 "metadata": {
  "kernelspec": {
   "display_name": "Python 3",
   "language": "python",
   "name": "python3"
  },
  "language_info": {
   "codemirror_mode": {
    "name": "ipython",
    "version": 3
   },
   "file_extension": ".py",
   "mimetype": "text/x-python",
   "name": "python",
   "nbconvert_exporter": "python",
   "pygments_lexer": "ipython3",
   "version": "3.8.5"
  }
 },
 "nbformat": 4,
 "nbformat_minor": 4
}
